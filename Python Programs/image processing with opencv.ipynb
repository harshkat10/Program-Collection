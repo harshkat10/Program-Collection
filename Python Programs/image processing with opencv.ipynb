{
 "cells": [
  {
   "cell_type": "code",
   "execution_count": 3,
   "metadata": {},
   "outputs": [],
   "source": [
    "# import\n",
    "\n",
    "import cv2\n",
    "import matplotlib.pyplot as plt\n",
    "import numpy as np\n",
    "\n",
    "# resize image\n",
    "def resize_image(image, width = None, height = None, inter = cv2.INTER_AREA):\n",
    "    dim = None\n",
    "    (h, w) = image.shape[:2]\n",
    "    if width is None and height is None:\n",
    "        return image\n",
    "    if width is None:\n",
    "        r = height / float(h)\n",
    "        dim = (int(w * r), height)\n",
    "    else:\n",
    "        r = width / float(w)\n",
    "        dim = (width, int(h * r))\n",
    "    resized = cv2.resize(image, dim, interpolation = inter)\n",
    "    return resized"
   ]
  },
  {
   "cell_type": "code",
   "execution_count": 46,
   "metadata": {},
   "outputs": [
    {
     "name": "stdout",
     "output_type": "stream",
     "text": [
      "Type of the image :  <class 'numpy.ndarray'>\n",
      "\n",
      "Shape of the image : (144, 176, 3)\n",
      "Image Hight 144\n",
      "Image Width 176\n",
      "Dimension of Image 3\n",
      "Image size 76032\n",
      "Maximum RGB value in this image 255\n",
      "Minimum RGB value in this image 0\n"
     ]
    }
   ],
   "source": [
    "img = cv2.imread('yakser.jpg')\n",
    "\n",
    "# properties of image\n",
    "print('Type of the image : ' , type(img))\n",
    "print()\n",
    "print('Shape of the image : {}'.format(img.shape))\n",
    "print('Image Hight {}'.format(img.shape[0]))\n",
    "print('Image Width {}'.format(img.shape[1]))\n",
    "print('Dimension of Image {}'.format(img.ndim))\n",
    "\n",
    "print('Image size {}'.format(img.size))\n",
    "print('Maximum RGB value in this image {}'.format(img.max()))\n",
    "print('Minimum RGB value in this image {}'.format(img.min()))"
   ]
  },
  {
   "cell_type": "code",
   "execution_count": 47,
   "metadata": {},
   "outputs": [
    {
     "data": {
      "text/plain": [
       "-1"
      ]
     },
     "execution_count": 47,
     "metadata": {},
     "output_type": "execute_result"
    }
   ],
   "source": [
    "# show the image with resize function\n",
    "cv2.imshow('image', resize_image(img, height = 650))\n",
    "cv2.waitKey(0)"
   ]
  },
  {
   "cell_type": "code",
   "execution_count": 54,
   "metadata": {},
   "outputs": [
    {
     "name": "stdout",
     "output_type": "stream",
     "text": [
      "3 176\n"
     ]
    }
   ],
   "source": [
    "img3 = img.copy()\n",
    "height, width, depth = img3.shape\n",
    "\n",
    "print(depth, width)"
   ]
  },
  {
   "cell_type": "code",
   "execution_count": 59,
   "metadata": {},
   "outputs": [
    {
     "data": {
      "text/plain": [
       "-1"
      ]
     },
     "execution_count": 59,
     "metadata": {},
     "output_type": "execute_result"
    }
   ],
   "source": [
    "\n",
    "# define the hight, width, and depth of the image\n",
    "img2 = img.copy()\n",
    "height, width, depth = img2.shape\n",
    "\n",
    "var = 128\n",
    "\n",
    "# looping through the image and printing the pixel values\n",
    "for h in range(height):\n",
    "    for w in range(width):\n",
    "        for d in range(depth):\n",
    "            if  img2[h,w,d] + var >= 255:\n",
    "                img2[h,w,d] = 255\n",
    "            else:\n",
    "                img2[h,w,d] = img2[h,w,d] + var\n",
    "            \n",
    "\n",
    "\n",
    "# show the image with resize function\n",
    "cv2.imshow('image', resize_image(img2, height = 650))\n",
    "cv2.waitKey(0)"
   ]
  }
 ],
 "metadata": {
  "kernelspec": {
   "display_name": "Python 3.10.4 64-bit",
   "language": "python",
   "name": "python3"
  },
  "language_info": {
   "codemirror_mode": {
    "name": "ipython",
    "version": 3
   },
   "file_extension": ".py",
   "mimetype": "text/x-python",
   "name": "python",
   "nbconvert_exporter": "python",
   "pygments_lexer": "ipython3",
   "version": "3.10.4"
  },
  "orig_nbformat": 4,
  "vscode": {
   "interpreter": {
    "hash": "26de051ba29f2982a8de78e945f0abaf191376122a1563185a90213a26c5da77"
   }
  }
 },
 "nbformat": 4,
 "nbformat_minor": 2
}
